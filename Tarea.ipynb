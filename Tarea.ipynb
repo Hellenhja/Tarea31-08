{
  "nbformat": 4,
  "nbformat_minor": 0,
  "metadata": {
    "colab": {
      "provenance": [],
      "authorship_tag": "ABX9TyP8iZtLZGA4PlRMgQsp5rq9",
      "include_colab_link": true
    },
    "kernelspec": {
      "name": "python3",
      "display_name": "Python 3"
    },
    "language_info": {
      "name": "python"
    }
  },
  "cells": [
    {
      "cell_type": "markdown",
      "metadata": {
        "id": "view-in-github",
        "colab_type": "text"
      },
      "source": [
        "<a href=\"https://colab.research.google.com/github/Hellenhja/Tarea31-08/blob/main/Tarea.ipynb\" target=\"_parent\"><img src=\"https://colab.research.google.com/assets/colab-badge.svg\" alt=\"Open In Colab\"/></a>"
      ]
    },
    {
      "cell_type": "markdown",
      "source": [
        "dfsdgsfgs"
      ],
      "metadata": {
        "id": "zYTahWcuWQ2l"
      }
    },
    {
      "cell_type": "markdown",
      "source": [
        "dfsfsd*texto en cursiva*dfsfd"
      ],
      "metadata": {
        "id": "s_ReLHjWWQ-H"
      }
    }
  ]
}